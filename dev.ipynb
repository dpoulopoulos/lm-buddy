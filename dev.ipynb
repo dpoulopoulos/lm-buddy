{
 "cells": [
  {
   "cell_type": "code",
   "execution_count": 7,
   "id": "02f6f2d4-10a7-4858-8524-42aa040f40ed",
   "metadata": {},
   "outputs": [
    {
     "name": "stdout",
     "output_type": "stream",
     "text": [
      "The autoreload extension is already loaded. To reload it, use:\n",
      "  %reload_ext autoreload\n"
     ]
    }
   ],
   "source": [
    "%load_ext autoreload\n",
    "%autoreload 2"
   ]
  },
  {
   "cell_type": "code",
   "execution_count": 26,
   "id": "c713ee5e-c9c2-432c-a2ce-202e2b0f2977",
   "metadata": {},
   "outputs": [],
   "source": [
    "import os\n",
    "import json\n",
    "import wandb\n",
    "import secrets\n",
    "from pathlib import Path\n",
    "\n",
    "from ray.job_submission import JobSubmissionClient\n",
    "\n",
    "from datasets import DatasetDict, load_dataset, load_from_disk, Dataset\n",
    "\n",
    "import flamingo\n",
    "from flamingo.jobs.finetuning import FinetuningJobConfig\n",
    "from flamingo.jobs.lm_harness import LMHarnessJobConfig\n",
    "from flamingo.jobs.simple import SimpleJobConfig\n",
    "from flamingo.jobs.utils import FlamingoJobType\n",
    "from flamingo.integrations.huggingface import AutoModelConfig\n",
    "from flamingo.integrations.wandb import WandbArtifactConfig, WandbRunConfig, ArtifactType, ArtifactURIScheme\n",
    "from flamingo.integrations.wandb.utils import wandb_init_from_config, log_artifact_from_path"
   ]
  },
  {
   "cell_type": "markdown",
   "id": "7d17926a-04ae-4f04-ac3d-227bb261108e",
   "metadata": {},
   "source": [
    "## Development"
   ]
  },
  {
   "cell_type": "code",
   "execution_count": 41,
   "id": "eff61927-7e44-40ca-982d-93b5aeccc537",
   "metadata": {},
   "outputs": [
    {
     "data": {
      "text/plain": [
       "WandbRunConfig(run_id='vxbvw154', name='test-dataset-with-actual-upload', project='sfriedowitz-dev', run_group=None, entity='mozilla-ai')"
      ]
     },
     "execution_count": 41,
     "metadata": {},
     "output_type": "execute_result"
    }
   ],
   "source": [
    "run_config = WandbRunConfig(\n",
    "    name=\"test-dataset-with-actual-upload\",\n",
    "    project=\"sfriedowitz-dev\",\n",
    "    entity=\"mozilla-ai\",\n",
    ")\n",
    "\n",
    "run_config"
   ]
  },
  {
   "cell_type": "code",
   "execution_count": 42,
   "id": "8ccd0a4f-2093-4516-a675-865287a43dbb",
   "metadata": {},
   "outputs": [
    {
     "data": {
      "application/vnd.jupyter.widget-view+json": {
       "model_id": "b5861004e1bf45a4876a193f178bff57",
       "version_major": 2,
       "version_minor": 0
      },
      "text/plain": [
       "Saving the dataset (0/1 shards):   0%|          | 0/153 [00:00<?, ? examples/s]"
      ]
     },
     "metadata": {},
     "output_type": "display_data"
    }
   ],
   "source": [
    "dataset_path = str(Path(\"datasets/test_dataset\").absolute())\n",
    "\n",
    "dataset = load_dataset(\"fka/awesome-chatgpt-prompts\", split=\"train\")\n",
    "dataset.save_to_disk(dataset_path)"
   ]
  },
  {
   "cell_type": "code",
   "execution_count": 43,
   "id": "bcf1cb4e-61bf-427e-9743-115005f5a08a",
   "metadata": {},
   "outputs": [
    {
     "data": {
      "text/html": [
       "Tracking run with wandb version 0.16.2"
      ],
      "text/plain": [
       "<IPython.core.display.HTML object>"
      ]
     },
     "metadata": {},
     "output_type": "display_data"
    },
    {
     "data": {
      "text/html": [
       "Run data is saved locally in <code>/Users/sfriedowitz/workspace/prototyping/debugging/wandb/run-20240122_132829-vxbvw154</code>"
      ],
      "text/plain": [
       "<IPython.core.display.HTML object>"
      ]
     },
     "metadata": {},
     "output_type": "display_data"
    },
    {
     "data": {
      "text/html": [
       "Syncing run <strong><a href='https://wandb.ai/mozilla-ai/sfriedowitz-dev/runs/vxbvw154' target=\"_blank\">test-dataset-with-actual-upload</a></strong> to <a href='https://wandb.ai/mozilla-ai/sfriedowitz-dev' target=\"_blank\">Weights & Biases</a> (<a href='https://wandb.me/run' target=\"_blank\">docs</a>)<br/>"
      ],
      "text/plain": [
       "<IPython.core.display.HTML object>"
      ]
     },
     "metadata": {},
     "output_type": "display_data"
    },
    {
     "data": {
      "text/html": [
       " View project at <a href='https://wandb.ai/mozilla-ai/sfriedowitz-dev' target=\"_blank\">https://wandb.ai/mozilla-ai/sfriedowitz-dev</a>"
      ],
      "text/plain": [
       "<IPython.core.display.HTML object>"
      ]
     },
     "metadata": {},
     "output_type": "display_data"
    },
    {
     "data": {
      "text/html": [
       " View run at <a href='https://wandb.ai/mozilla-ai/sfriedowitz-dev/runs/vxbvw154' target=\"_blank\">https://wandb.ai/mozilla-ai/sfriedowitz-dev/runs/vxbvw154</a>"
      ],
      "text/plain": [
       "<IPython.core.display.HTML object>"
      ]
     },
     "metadata": {},
     "output_type": "display_data"
    },
    {
     "name": "stderr",
     "output_type": "stream",
     "text": [
      "\u001b[34m\u001b[1mwandb\u001b[0m: Adding directory to artifact (/Users/sfriedowitz/workspace/prototyping/debugging/datasets/test_dataset)... Done. 0.0s\n"
     ]
    },
    {
     "data": {
      "application/vnd.jupyter.widget-view+json": {
       "model_id": "",
       "version_major": 2,
       "version_minor": 0
      },
      "text/plain": [
       "VBox(children=(Label(value='0.109 MB of 0.109 MB uploaded\\r'), FloatProgress(value=1.0, max=1.0)))"
      ]
     },
     "metadata": {},
     "output_type": "display_data"
    },
    {
     "data": {
      "text/html": [
       "W&B sync reduced upload amount by 2.7%             "
      ],
      "text/plain": [
       "<IPython.core.display.HTML object>"
      ]
     },
     "metadata": {},
     "output_type": "display_data"
    },
    {
     "data": {
      "text/html": [
       " View run <strong style=\"color:#cdcd00\">test-dataset-with-actual-upload</strong> at: <a href='https://wandb.ai/mozilla-ai/sfriedowitz-dev/runs/vxbvw154' target=\"_blank\">https://wandb.ai/mozilla-ai/sfriedowitz-dev/runs/vxbvw154</a><br/> View job at <a href='https://wandb.ai/mozilla-ai/sfriedowitz-dev/jobs/QXJ0aWZhY3RDb2xsZWN0aW9uOjEzMjc2MTkwNg==/version_details/v3' target=\"_blank\">https://wandb.ai/mozilla-ai/sfriedowitz-dev/jobs/QXJ0aWZhY3RDb2xsZWN0aW9uOjEzMjc2MTkwNg==/version_details/v3</a><br/>Synced 6 W&B file(s), 0 media file(s), 7 artifact file(s) and 1 other file(s)"
      ],
      "text/plain": [
       "<IPython.core.display.HTML object>"
      ]
     },
     "metadata": {},
     "output_type": "display_data"
    },
    {
     "data": {
      "text/html": [
       "Find logs at: <code>./wandb/run-20240122_132829-vxbvw154/logs</code>"
      ],
      "text/plain": [
       "<IPython.core.display.HTML object>"
      ]
     },
     "metadata": {},
     "output_type": "display_data"
    }
   ],
   "source": [
    "with wandb_init_from_config(run_config, job_type=FlamingoJobType.PREPROCESSING):\n",
    "    log_artifact_from_path(\n",
    "        name=\"test-dataset-actual-upload\",\n",
    "        path=dataset_path,\n",
    "        artifact_type=ArtifactType.DATASET,\n",
    "    )"
   ]
  },
  {
   "cell_type": "markdown",
   "id": "d9925022-5022-4dfd-9f43-71fc6fd4779c",
   "metadata": {},
   "source": [
    "## Debugging"
   ]
  },
  {
   "cell_type": "code",
   "execution_count": 36,
   "id": "d1ac4b2d-14bf-4a83-82a7-b10e4dfbe2c9",
   "metadata": {},
   "outputs": [
    {
     "data": {
      "text/plain": [
       "'http://10.146.174.91:8265'"
      ]
     },
     "execution_count": 36,
     "metadata": {},
     "output_type": "execute_result"
    }
   ],
   "source": [
    "client = JobSubmissionClient(f\"http://10.146.174.91:8265\")\n",
    "client.get_address()"
   ]
  },
  {
   "cell_type": "code",
   "execution_count": 37,
   "id": "00fa047a-a42b-4af5-ab66-a840e469351d",
   "metadata": {},
   "outputs": [
    {
     "name": "stdout",
     "output_type": "stream",
     "text": [
      "{\n",
      "  \"model\": {\n",
      "    \"path\": \"distilgpt2\",\n",
      "    \"trust_remote_code\": false,\n",
      "    \"torch_dtype\": null\n",
      "  },\n",
      "  \"dataset\": {\n",
      "    \"path\": \"fka/awesome-chatgpt-prompts\",\n",
      "    \"split\": \"train\",\n",
      "    \"text_field\": \"prompt\",\n",
      "    \"test_size\": 0.2,\n",
      "    \"seed\": null\n",
      "  },\n",
      "  \"tokenizer\": {\n",
      "    \"path\": \"distilgpt2\",\n",
      "    \"trust_remote_code\": null,\n",
      "    \"use_fast\": null\n",
      "  },\n",
      "  \"quantization\": null,\n",
      "  \"adapter\": null,\n",
      "  \"tracking\": {\n",
      "    \"run_id\": \"zw3zkqbp\",\n",
      "    \"name\": \"test-post-refactor\",\n",
      "    \"project\": \"sfriedowitz-dev\",\n",
      "    \"run_group\": null,\n",
      "    \"entity\": \"mozilla-ai\"\n",
      "  },\n",
      "  \"trainer\": {\n",
      "    \"max_seq_length\": 512,\n",
      "    \"num_train_epochs\": 1.0,\n",
      "    \"per_device_train_batch_size\": 16,\n",
      "    \"per_device_eval_batch_size\": 16,\n",
      "    \"learning_rate\": null,\n",
      "    \"weight_decay\": null,\n",
      "    \"gradient_accumulation_steps\": null,\n",
      "    \"gradient_checkpointing\": null,\n",
      "    \"evaluation_strategy\": null,\n",
      "    \"eval_steps\": null,\n",
      "    \"logging_strategy\": \"epoch\",\n",
      "    \"logging_steps\": 1.0,\n",
      "    \"save_strategy\": \"epoch\",\n",
      "    \"save_steps\": 1\n",
      "  },\n",
      "  \"ray\": {\n",
      "    \"use_gpu\": true,\n",
      "    \"num_workers\": 1,\n",
      "    \"storage_path\": \"/mnt/data/ray_results\"\n",
      "  }\n",
      "}\n"
     ]
    }
   ],
   "source": [
    "config = FinetuningJobConfig.from_yaml_file(\"configs/finetuning.yaml\")\n",
    "\n",
    "print(config.json(indent=2))"
   ]
  },
  {
   "cell_type": "code",
   "execution_count": 39,
   "id": "a243654d-be8d-4997-bd68-17301e580605",
   "metadata": {},
   "outputs": [
    {
     "data": {
      "text/plain": [
       "PosixPath('/Users/sfriedowitz/workspace/flamingo/src/flamingo')"
      ]
     },
     "execution_count": 39,
     "metadata": {},
     "output_type": "execute_result"
    }
   ],
   "source": [
    "flamingo_repo = Path(flamingo.__file__).parents[2]\n",
    "flamingo_module = flamingo_repo / \"src\" / \"flamingo\"\n",
    "\n",
    "flamingo_module"
   ]
  },
  {
   "cell_type": "code",
   "execution_count": 40,
   "id": "850529ac-f744-4bba-b062-1b9b5565bd8f",
   "metadata": {},
   "outputs": [
    {
     "name": "stderr",
     "output_type": "stream",
     "text": [
      "2024-01-22 13:25:54,392\tINFO dashboard_sdk.py:338 -- Uploading package gcs://_ray_pkg_9e7a7ee1f486946b.zip.\n",
      "2024-01-22 13:25:54,394\tINFO packaging.py:530 -- Creating a file package for local directory 'configs'.\n",
      "2024-01-22 13:25:54,781\tINFO dashboard_sdk.py:338 -- Uploading package gcs://_ray_pkg_c5dedd8d5e91ab6d.zip.\n",
      "2024-01-22 13:25:54,784\tINFO packaging.py:530 -- Creating a file package for local directory '/Users/sfriedowitz/workspace/flamingo/src/flamingo'.\n"
     ]
    },
    {
     "data": {
      "text/plain": [
       "'raysubmit_1fRSCCdqCFNdFeDL'"
      ]
     },
     "execution_count": 40,
     "metadata": {},
     "output_type": "execute_result"
    }
   ],
   "source": [
    "runtime_env = {\n",
    "    \"working_dir\": \"configs\",\n",
    "    \"env_vars\": {\"WANDB_API_KEY\": os.environ[\"WANDB_API_KEY\"]},\n",
    "    \"py_modules\": [str(flamingo_module)],\n",
    "    \"pip\": \"requirements.txt\"\n",
    "}\n",
    "\n",
    "client.submit_job(\n",
    "    entrypoint=\"python -m flamingo run finetuning --config finetuning.yaml\",\n",
    "    runtime_env=runtime_env\n",
    ")"
   ]
  },
  {
   "cell_type": "code",
   "execution_count": null,
   "id": "84876232-d26f-4a39-8f1f-470bcf315fdd",
   "metadata": {},
   "outputs": [],
   "source": []
  }
 ],
 "metadata": {
  "kernelspec": {
   "display_name": "Python 3 (ipykernel)",
   "language": "python",
   "name": "python3"
  },
  "language_info": {
   "codemirror_mode": {
    "name": "ipython",
    "version": 3
   },
   "file_extension": ".py",
   "mimetype": "text/x-python",
   "name": "python",
   "nbconvert_exporter": "python",
   "pygments_lexer": "ipython3",
   "version": "3.10.13"
  }
 },
 "nbformat": 4,
 "nbformat_minor": 5
}
