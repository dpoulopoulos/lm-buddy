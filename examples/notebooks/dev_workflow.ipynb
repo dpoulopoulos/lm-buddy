{
 "cells": [
  {
   "cell_type": "markdown",
   "id": "123e34e9-70f8-42ab-b790-b59ddc01b1f3",
   "metadata": {},
   "source": [
    "# Development Workflow"
   ]
  },
  {
   "cell_type": "markdown",
   "id": "9366fd9e",
   "metadata": {},
   "source": [
    "## File-based Submission"
   ]
  },
  {
   "cell_type": "markdown",
   "id": "fcd5240e",
   "metadata": {},
   "source": [
    "This demonstrates the basic workflow for submitting a Flamingo job to Ray\n",
    "from a configuration stored as a local file.\n",
    "\n",
    "The job configuration is stored as a YAML file in a the local `configs` directory,\n",
    "and that directory is specified as the working directory of the Ray runtime environment upon submission."
   ]
  },
  {
   "cell_type": "code",
   "execution_count": 1,
   "id": "9b26d777",
   "metadata": {
    "ExecuteTime": {
     "end_time": "2024-02-08T21:45:35.279721Z",
     "start_time": "2024-02-08T21:45:34.601292Z"
    }
   },
   "outputs": [],
   "source": [
    "# Required imports\n",
    "import os\n",
    "from pathlib import Path\n",
    "\n",
    "from ray.job_submission import JobSubmissionClient"
   ]
  },
  {
   "cell_type": "markdown",
   "source": [],
   "metadata": {
    "collapsed": false
   },
   "id": "2119eebfa25faa53"
  },
  {
   "cell_type": "code",
   "execution_count": 3,
   "id": "969884e5-d815-42d9-9d4e-3b8f890657e2",
   "metadata": {
    "ExecuteTime": {
     "end_time": "2024-02-08T21:48:19.687776Z",
     "start_time": "2024-02-08T21:48:19.070372Z"
    }
   },
   "outputs": [],
   "source": [
    "# Create a submission client bound to a Ray cluster\n",
    "# Note: You will likely have to update the cluster address shown below\n",
    "client = JobSubmissionClient(\"http://10.140.58.130:8265\")"
   ]
  },
  {
   "cell_type": "code",
   "execution_count": 4,
   "id": "3258bb97-d3c6-4fee-aa0c-962c1411eaa7",
   "metadata": {
    "ExecuteTime": {
     "end_time": "2024-02-08T21:51:20.303781Z",
     "start_time": "2024-02-08T21:51:20.301111Z"
    }
   },
   "outputs": [],
   "source": [
    "# Determine local module path for the flamingo repo\n",
    "# In theory this workflow is possible without having the flamingo package installed locally,\n",
    "# but this is a convenient means to access the local module path\n",
    "import flamingo\n",
    "\n",
    "flamingo_module = Path(flamingo.__file__).parent"
   ]
  },
  {
   "cell_type": "code",
   "execution_count": 5,
   "id": "b81b36be-35ce-4398-a6d4-ac1f719f5c95",
   "metadata": {
    "ExecuteTime": {
     "end_time": "2024-02-08T21:51:23.916422Z",
     "start_time": "2024-02-08T21:51:23.864570Z"
    }
   },
   "outputs": [
    {
     "ename": "KeyError",
     "evalue": "'WANDB_API_KEY'",
     "output_type": "error",
     "traceback": [
      "\u001B[0;31m---------------------------------------------------------------------------\u001B[0m",
      "\u001B[0;31mKeyError\u001B[0m                                  Traceback (most recent call last)",
      "Cell \u001B[0;32mIn[5], line 6\u001B[0m\n\u001B[1;32m      1\u001B[0m \u001B[38;5;66;03m# Construct the runtime environment for your job submission\u001B[39;00m\n\u001B[1;32m      2\u001B[0m \u001B[38;5;66;03m# py_modules contains the path to the local flamingo module directory\u001B[39;00m\n\u001B[1;32m      3\u001B[0m \u001B[38;5;66;03m# pip contains an export of the dependencies for the flamingo package (see CONTRIBUTING.md for how to generate)\u001B[39;00m\n\u001B[1;32m      4\u001B[0m runtime_env \u001B[38;5;241m=\u001B[39m {\n\u001B[1;32m      5\u001B[0m     \u001B[38;5;124m\"\u001B[39m\u001B[38;5;124mworking_dir\u001B[39m\u001B[38;5;124m\"\u001B[39m: \u001B[38;5;124m\"\u001B[39m\u001B[38;5;124mconfigs\u001B[39m\u001B[38;5;124m\"\u001B[39m,\n\u001B[0;32m----> 6\u001B[0m     \u001B[38;5;124m\"\u001B[39m\u001B[38;5;124menv_vars\u001B[39m\u001B[38;5;124m\"\u001B[39m: {\u001B[38;5;124m\"\u001B[39m\u001B[38;5;124mWANDB_API_KEY\u001B[39m\u001B[38;5;124m\"\u001B[39m: \u001B[43mos\u001B[49m\u001B[38;5;241;43m.\u001B[39;49m\u001B[43menviron\u001B[49m\u001B[43m[\u001B[49m\u001B[38;5;124;43m\"\u001B[39;49m\u001B[38;5;124;43mWANDB_API_KEY\u001B[39;49m\u001B[38;5;124;43m\"\u001B[39;49m\u001B[43m]\u001B[49m},  \u001B[38;5;66;03m# If running a job that uses W&B\u001B[39;00m\n\u001B[1;32m      7\u001B[0m     \u001B[38;5;124m\"\u001B[39m\u001B[38;5;124mpy_modules\u001B[39m\u001B[38;5;124m\"\u001B[39m: [\u001B[38;5;28mstr\u001B[39m(flamingo_module)],\n\u001B[1;32m      8\u001B[0m     \u001B[38;5;124m\"\u001B[39m\u001B[38;5;124mpip\u001B[39m\u001B[38;5;124m\"\u001B[39m: \u001B[38;5;124m\"\u001B[39m\u001B[38;5;124mrequirements.txt\u001B[39m\u001B[38;5;124m\"\u001B[39m,  \u001B[38;5;66;03m# See CONTRIBUTING.md for how to generate this\u001B[39;00m\n\u001B[1;32m      9\u001B[0m }\n",
      "File \u001B[0;32m~/.pyenv/versions/3.10.8/lib/python3.10/os.py:680\u001B[0m, in \u001B[0;36m_Environ.__getitem__\u001B[0;34m(self, key)\u001B[0m\n\u001B[1;32m    677\u001B[0m     value \u001B[38;5;241m=\u001B[39m \u001B[38;5;28mself\u001B[39m\u001B[38;5;241m.\u001B[39m_data[\u001B[38;5;28mself\u001B[39m\u001B[38;5;241m.\u001B[39mencodekey(key)]\n\u001B[1;32m    678\u001B[0m \u001B[38;5;28;01mexcept\u001B[39;00m \u001B[38;5;167;01mKeyError\u001B[39;00m:\n\u001B[1;32m    679\u001B[0m     \u001B[38;5;66;03m# raise KeyError with the original key value\u001B[39;00m\n\u001B[0;32m--> 680\u001B[0m     \u001B[38;5;28;01mraise\u001B[39;00m \u001B[38;5;167;01mKeyError\u001B[39;00m(key) \u001B[38;5;28;01mfrom\u001B[39;00m \u001B[38;5;28;01mNone\u001B[39;00m\n\u001B[1;32m    681\u001B[0m \u001B[38;5;28;01mreturn\u001B[39;00m \u001B[38;5;28mself\u001B[39m\u001B[38;5;241m.\u001B[39mdecodevalue(value)\n",
      "\u001B[0;31mKeyError\u001B[0m: 'WANDB_API_KEY'"
     ]
    }
   ],
   "source": [
    "# Construct the runtime environment for your job submission\n",
    "# py_modules contains the path to the local flamingo module directory\n",
    "# pip contains an export of the dependencies for the flamingo package (see CONTRIBUTING.md for how to generate)\n",
    "runtime_env = {\n",
    "    \"working_dir\": \"configs\",\n",
    "    \"env_vars\": {\"WANDB_API_KEY\": os.environ[\"WANDB_API_KEY\"]},  # If running a job that uses W&B\n",
    "    \"py_modules\": [str(flamingo_module)],\n",
    "    \"pip\": \"requirements.txt\",  # See CONTRIBUTING.md for how to generate this\n",
    "}"
   ]
  },
  {
   "cell_type": "code",
   "execution_count": 6,
   "id": "4bd300f9-b863-4413-bd3a-430601656816",
   "metadata": {
    "ExecuteTime": {
     "end_time": "2024-02-08T21:51:26.740397Z",
     "start_time": "2024-02-08T21:51:26.733983Z"
    }
   },
   "outputs": [
    {
     "ename": "NameError",
     "evalue": "name 'runtime_env' is not defined",
     "output_type": "error",
     "traceback": [
      "\u001B[0;31m---------------------------------------------------------------------------\u001B[0m",
      "\u001B[0;31mNameError\u001B[0m                                 Traceback (most recent call last)",
      "Cell \u001B[0;32mIn[6], line 5\u001B[0m\n\u001B[1;32m      1\u001B[0m \u001B[38;5;66;03m# Submit the job to the Ray cluster\u001B[39;00m\n\u001B[1;32m      2\u001B[0m \u001B[38;5;66;03m# Note: flamingo is invoked by 'python -m flamingo' since the CLI is not installed in the environment\u001B[39;00m\n\u001B[1;32m      3\u001B[0m client\u001B[38;5;241m.\u001B[39msubmit_job(\n\u001B[1;32m      4\u001B[0m     entrypoint\u001B[38;5;241m=\u001B[39m\u001B[38;5;124mf\u001B[39m\u001B[38;5;124m\"\u001B[39m\u001B[38;5;124mpython -m flamingo run simple --config simple_config.yaml\u001B[39m\u001B[38;5;124m\"\u001B[39m,\n\u001B[0;32m----> 5\u001B[0m     runtime_env\u001B[38;5;241m=\u001B[39m\u001B[43mruntime_env\u001B[49m,\n\u001B[1;32m      6\u001B[0m )\n",
      "\u001B[0;31mNameError\u001B[0m: name 'runtime_env' is not defined"
     ]
    }
   ],
   "source": [
    "# Submit the job to the Ray cluster\n",
    "# Note: flamingo is invoked by 'python -m flamingo' since the CLI is not installed in the environment\n",
    "client.submit_job(\n",
    "    entrypoint=f\"python -m flamingo run simple --config simple_config.yaml\",\n",
    "    runtime_env=runtime_env,\n",
    ")"
   ]
  },
  {
   "cell_type": "markdown",
   "id": "425be140",
   "metadata": {},
   "source": [
    "## Iterative Submission"
   ]
  },
  {
   "cell_type": "markdown",
   "id": "e99ce273",
   "metadata": {},
   "source": [
    "It is also possible to submit Flamingo jobs using a fully Python/Jupyter driven workflow.\n",
    "\n",
    "In this case, the Flamingo job configuration is instantiated in your Python script\n",
    "and written to a temporary directory for submission. \n",
    "\n",
    "The Ray working directory is based off this temporary YAML file location.\n",
    "\n",
    "This approach is convenient if you want to run sweeps over parameter ranges\n",
    "and use a Python script/Jupyter notebook as your local \"driver\" for the workflow."
   ]
  },
  {
   "cell_type": "code",
   "execution_count": null,
   "id": "0cfccaa9",
   "metadata": {},
   "outputs": [],
   "source": [
    "# Required imports\n",
    "import os\n",
    "from pathlib import Path\n",
    "\n",
    "from ray.job_submission import JobSubmissionClient"
   ]
  },
  {
   "cell_type": "code",
   "execution_count": null,
   "id": "a51235ed",
   "metadata": {},
   "outputs": [],
   "source": [
    "# Create a submission client bound to a Ray cluster\n",
    "# Note: You will likely have to update the cluster address shown below\n",
    "client = JobSubmissionClient(\"http://10.147.154.77:8265\")"
   ]
  },
  {
   "cell_type": "code",
   "execution_count": null,
   "id": "a1216c43",
   "metadata": {},
   "outputs": [],
   "source": [
    "# Determine local module path for the flamingo repo\n",
    "# In theory this workflow is possible without having the flamingo package installed locally,\n",
    "# but this is a convenient means to access the local module path\n",
    "import flamingo\n",
    "\n",
    "flamingo_module = Path(flamingo.__file__).parent"
   ]
  },
  {
   "cell_type": "code",
   "execution_count": null,
   "id": "e5715d09",
   "metadata": {},
   "outputs": [],
   "source": [
    "import os\n",
    "\n",
    "from flamingo.jobs.simple import SimpleJobConfig\n",
    "\n",
    "# Generate job configs programatically for sweeps over parameter ranges\n",
    "magic_numbers = [0, 10, 20, 40]\n",
    "\n",
    "for number in magic_numbers:\n",
    "    # Instantitate config in your workflow script\n",
    "    # You may also want to read a \"base\" config from file with some suitable defaults\n",
    "    config = SimpleJobConfig(magic_number=number)\n",
    "\n",
    "    # `config_path` is the fully qualified path to the config file on your local filesystem\n",
    "    with config.to_tempfile(name=\"config.yaml\") as config_path:\n",
    "        # `config_path.parent` is the working directory\n",
    "        runtime_env = {\n",
    "            \"working_dir\": str(config_path.parent),\n",
    "            \"env_vars\": {\"WANDB_API_KEY\": os.environ[\"WANDB_API_KEY\"]},\n",
    "            \"py_modules\": [str(flamingo_module)],\n",
    "            \"pip\": \"requirements.txt\",  # See CONTRIBUTING.md for how to generate this\n",
    "        }\n",
    "\n",
    "        # `config_path.name` is the file name within the working directory, i.e., \"config.yaml\"\n",
    "        client.submit_job(\n",
    "            entrypoint=f\"python -m flamingo run simple --config {config_path.name}\",\n",
    "            runtime_env=runtime_env,\n",
    "        )"
   ]
  }
 ],
 "metadata": {
  "kernelspec": {
   "display_name": "Python 3 (ipykernel)",
   "language": "python",
   "name": "python3"
  },
  "language_info": {
   "codemirror_mode": {
    "name": "ipython",
    "version": 3
   },
   "file_extension": ".py",
   "mimetype": "text/x-python",
   "name": "python",
   "nbconvert_exporter": "python",
   "pygments_lexer": "ipython3",
   "version": "3.10.13"
  }
 },
 "nbformat": 4,
 "nbformat_minor": 5
}
