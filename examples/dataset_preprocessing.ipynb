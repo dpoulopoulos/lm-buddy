{
 "cells": [
  {
   "cell_type": "markdown",
   "id": "f9fd719d-abf4-4ea5-9a8a-637727bf6d48",
   "metadata": {},
   "source": [
    "This notebook shows a simple example of how to use some of the `flamingo` utilities to pre-process a dataset\n",
    "and upload it as a W&B artifact.\n",
    "\n",
    "Generally, this workflow will be performed in a dev environment on cluster so that the dataset files\n",
    "can be saved on a shared volume. \n",
    "But this notebook can be run locally for educational purposes to illustrate the basic functions."
   ]
  },
  {
   "cell_type": "markdown",
   "id": "03586a6c-6606-47a3-8947-9b09adfb1da4",
   "metadata": {},
   "source": [
    "(1) Load and pre-process the base dataset from HuggingFace"
   ]
  },
  {
   "cell_type": "code",
   "execution_count": 12,
   "id": "7613c7ff-ef5a-430b-854a-b34c31547df0",
   "metadata": {},
   "outputs": [
    {
     "data": {
      "text/plain": [
       "Dataset({\n",
       "    features: ['act', 'prompt'],\n",
       "    num_rows: 153\n",
       "})"
      ]
     },
     "execution_count": 12,
     "metadata": {},
     "output_type": "execute_result"
    }
   ],
   "source": [
    "from datasets import load_dataset\n",
    "\n",
    "base_dataset = \"fka/awesome-chatgpt-prompts\"\n",
    "dataset = load_dataset(base_dataset, split=\"train\")\n",
    "\n",
    "dataset"
   ]
  },
  {
   "cell_type": "code",
   "execution_count": 11,
   "id": "b8b47047-ba99-4c70-9e6f-5967a89adca0",
   "metadata": {},
   "outputs": [
    {
     "data": {
      "application/vnd.jupyter.widget-view+json": {
       "model_id": "283e7f5c85824fee965efed50b9b06d7",
       "version_major": 2,
       "version_minor": 0
      },
      "text/plain": [
       "Map:   0%|          | 0/153 [00:00<?, ? examples/s]"
      ]
     },
     "metadata": {},
     "output_type": "display_data"
    },
    {
     "data": {
      "text/plain": [
       "Dataset({\n",
       "    features: ['text'],\n",
       "    num_rows: 153\n",
       "})"
      ]
     },
     "execution_count": 11,
     "metadata": {},
     "output_type": "execute_result"
    }
   ],
   "source": [
    "def preprocess_func(examples):\n",
    "    texts = []\n",
    "    for x in examples[\"prompt\"]:\n",
    "        texts.append(x[::-1]) # Dummy reverse the prompt\n",
    "    examples[\"text\"] = texts\n",
    "    return examples\n",
    "\n",
    "# Map some preprocessing function over the base dataset (e.g., for prompt formatting)\n",
    "dataset = dataset.map(\n",
    "    preprocess_func, \n",
    "    batched=True,\n",
    "    remove_columns=dataset.column_names\n",
    ")\n",
    "\n",
    "dataset"
   ]
  },
  {
   "cell_type": "markdown",
   "id": "8ebbe99e-1994-4b3d-86ca-7863fa529618",
   "metadata": {},
   "source": [
    "(2) Save the dataset to disk"
   ]
  },
  {
   "cell_type": "code",
   "execution_count": 16,
   "id": "e74a92c7-49c2-4736-bc28-c843a403e650",
   "metadata": {},
   "outputs": [
    {
     "data": {
      "application/vnd.jupyter.widget-view+json": {
       "model_id": "435e78c933594538bc52e92f1e80d6fc",
       "version_major": 2,
       "version_minor": 0
      },
      "text/plain": [
       "Saving the dataset (0/1 shards):   0%|          | 0/153 [00:00<?, ? examples/s]"
      ]
     },
     "metadata": {},
     "output_type": "display_data"
    }
   ],
   "source": [
    "from pathlib import Path\n",
    "\n",
    "# Add an actual path here to where you want the data to live on shared storage\n",
    "dataset_save_path = str(Path(\"example_dataset\").absolute())\n",
    "\n",
    "dataset.save_to_disk(dataset_save_path)"
   ]
  },
  {
   "cell_type": "markdown",
   "id": "5cea9f8f-7279-44ac-947c-1d79f6bf6ebc",
   "metadata": {},
   "source": [
    "(3) Log the dataset directory as a W&B artifact for later use"
   ]
  },
  {
   "cell_type": "code",
   "execution_count": 21,
   "id": "8b09e47d-3ced-4eef-a89f-048754edc758",
   "metadata": {},
   "outputs": [],
   "source": [
    "from flamingo.jobs.utils import FlamingoJobType\n",
    "from flamingo.integrations.wandb import WandbRunConfig, wandb_init_from_config\n",
    "from flamingo.integrations.wandb import ArtifactType, ArtifactURIScheme, log_artifact_from_path"
   ]
  },
  {
   "cell_type": "code",
   "execution_count": 20,
   "id": "9d348234-c5d8-4c6d-aa1f-087a6df6aeb6",
   "metadata": {},
   "outputs": [],
   "source": [
    "run_config = WandbRunConfig(\n",
    "    name=\"dataset-preprocessing-example\",\n",
    "    project=\"sfriedowitz-dev\",\n",
    "    entity=\"mozilla-ai\"\n",
    ")"
   ]
  },
  {
   "cell_type": "code",
   "execution_count": 22,
   "id": "51fa909f-a842-4872-a50a-8766fbbe31f7",
   "metadata": {},
   "outputs": [
    {
     "name": "stderr",
     "output_type": "stream",
     "text": [
      "\u001b[34m\u001b[1mwandb\u001b[0m: Currently logged in as: \u001b[33msfriedowitz\u001b[0m (\u001b[33mmozilla-ai\u001b[0m). Use \u001b[1m`wandb login --relogin`\u001b[0m to force relogin\n"
     ]
    },
    {
     "data": {
      "text/html": [
       "Tracking run with wandb version 0.16.2"
      ],
      "text/plain": [
       "<IPython.core.display.HTML object>"
      ]
     },
     "metadata": {},
     "output_type": "display_data"
    },
    {
     "data": {
      "text/html": [
       "Run data is saved locally in <code>/Users/sfriedowitz/workspace/flamingo/examples/wandb/run-20240122_135024-zmwudly6</code>"
      ],
      "text/plain": [
       "<IPython.core.display.HTML object>"
      ]
     },
     "metadata": {},
     "output_type": "display_data"
    },
    {
     "data": {
      "text/html": [
       "Syncing run <strong><a href='https://wandb.ai/mozilla-ai/sfriedowitz-dev/runs/zmwudly6' target=\"_blank\">dataset-preprocessing-example</a></strong> to <a href='https://wandb.ai/mozilla-ai/sfriedowitz-dev' target=\"_blank\">Weights & Biases</a> (<a href='https://wandb.me/run' target=\"_blank\">docs</a>)<br/>"
      ],
      "text/plain": [
       "<IPython.core.display.HTML object>"
      ]
     },
     "metadata": {},
     "output_type": "display_data"
    },
    {
     "data": {
      "text/html": [
       " View project at <a href='https://wandb.ai/mozilla-ai/sfriedowitz-dev' target=\"_blank\">https://wandb.ai/mozilla-ai/sfriedowitz-dev</a>"
      ],
      "text/plain": [
       "<IPython.core.display.HTML object>"
      ]
     },
     "metadata": {},
     "output_type": "display_data"
    },
    {
     "data": {
      "text/html": [
       " View run at <a href='https://wandb.ai/mozilla-ai/sfriedowitz-dev/runs/zmwudly6' target=\"_blank\">https://wandb.ai/mozilla-ai/sfriedowitz-dev/runs/zmwudly6</a>"
      ],
      "text/plain": [
       "<IPython.core.display.HTML object>"
      ]
     },
     "metadata": {},
     "output_type": "display_data"
    },
    {
     "name": "stderr",
     "output_type": "stream",
     "text": [
      "\u001b[34m\u001b[1mwandb\u001b[0m: Generating checksum for up to 10000 files in \"/Users/sfriedowitz/workspace/flamingo/examples/example_dataset\"...\n",
      "\u001b[34m\u001b[1mwandb\u001b[0m: Done. 0.0s\n"
     ]
    },
    {
     "data": {
      "application/vnd.jupyter.widget-view+json": {
       "model_id": "",
       "version_major": 2,
       "version_minor": 0
      },
      "text/plain": [
       "VBox(children=(Label(value='0.018 MB of 0.018 MB uploaded\\r'), FloatProgress(value=1.0, max=1.0)))"
      ]
     },
     "metadata": {},
     "output_type": "display_data"
    },
    {
     "data": {
      "text/html": [
       " View run <strong style=\"color:#cdcd00\">dataset-preprocessing-example</strong> at: <a href='https://wandb.ai/mozilla-ai/sfriedowitz-dev/runs/zmwudly6' target=\"_blank\">https://wandb.ai/mozilla-ai/sfriedowitz-dev/runs/zmwudly6</a><br/> View job at <a href='https://wandb.ai/mozilla-ai/sfriedowitz-dev/jobs/QXJ0aWZhY3RDb2xsZWN0aW9uOjEzMjc3OTUwMg==/version_details/v0' target=\"_blank\">https://wandb.ai/mozilla-ai/sfriedowitz-dev/jobs/QXJ0aWZhY3RDb2xsZWN0aW9uOjEzMjc3OTUwMg==/version_details/v0</a><br/>Synced 6 W&B file(s), 0 media file(s), 2 artifact file(s) and 2 other file(s)"
      ],
      "text/plain": [
       "<IPython.core.display.HTML object>"
      ]
     },
     "metadata": {},
     "output_type": "display_data"
    },
    {
     "data": {
      "text/html": [
       "Find logs at: <code>./wandb/run-20240122_135024-zmwudly6/logs</code>"
      ],
      "text/plain": [
       "<IPython.core.display.HTML object>"
      ]
     },
     "metadata": {},
     "output_type": "display_data"
    }
   ],
   "source": [
    "with wandb_init_from_config(config=run_config, job_type=FlamingoJobType.PREPROCESSING):\n",
    "    # Specify that this path references local files by adding `uri_scheme = ArtifactURIScheme.FILE`\n",
    "    # This will upload a reference artifact to the dataset, rather than uploading the actual directory contents\n",
    "    log_artifact_from_path(\n",
    "        name=\"example-dataset\",\n",
    "        path=dataset_save_path,\n",
    "        artifact_type=ArtifactType.DATASET,\n",
    "        uri_scheme=ArtifactURIScheme.FILE\n",
    "    )"
   ]
  },
  {
   "cell_type": "code",
   "execution_count": null,
   "id": "0438113d-efa9-4669-b316-cf5fe8460749",
   "metadata": {},
   "outputs": [],
   "source": []
  }
 ],
 "metadata": {
  "kernelspec": {
   "display_name": "Python 3 (ipykernel)",
   "language": "python",
   "name": "python3"
  },
  "language_info": {
   "codemirror_mode": {
    "name": "ipython",
    "version": 3
   },
   "file_extension": ".py",
   "mimetype": "text/x-python",
   "name": "python",
   "nbconvert_exporter": "python",
   "pygments_lexer": "ipython3",
   "version": "3.10.13"
  }
 },
 "nbformat": 4,
 "nbformat_minor": 5
}
