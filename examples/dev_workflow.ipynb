{
 "cells": [
  {
   "cell_type": "markdown",
   "id": "123e34e9-70f8-42ab-b790-b59ddc01b1f3",
   "metadata": {},
   "source": [
    "# Development Workflow"
   ]
  },
  {
   "cell_type": "code",
   "execution_count": null,
   "id": "8c0f15ed-77dc-44ce-adb6-d1b59368f03c",
   "metadata": {},
   "outputs": [],
   "source": [
    "# Required imports\n",
    "import os\n",
    "from pathlib import Path\n",
    "\n",
    "from ray.job_submission import JobSubmissionClient\n",
    "\n",
    "# flamingo should be installed in your development environment\n",
    "import flamingo"
   ]
  },
  {
   "cell_type": "code",
   "execution_count": null,
   "id": "969884e5-d815-42d9-9d4e-3b8f890657e2",
   "metadata": {},
   "outputs": [],
   "source": [
    "# Create a submission client bound to a Ray cluster\n",
    "# Note: You will likely have to update the cluster address shown below\n",
    "client = JobSubmissionClient(\"http://10.146.174.91:8265\")"
   ]
  },
  {
   "cell_type": "code",
   "execution_count": null,
   "id": "3258bb97-d3c6-4fee-aa0c-962c1411eaa7",
   "metadata": {},
   "outputs": [],
   "source": [
    "# Determine local module path for the flamingo repo\n",
    "flamingo_module = Path(flamingo.__file__).parent"
   ]
  },
  {
   "cell_type": "code",
   "execution_count": null,
   "id": "1db3b9aa-99a4-49d9-8773-7b91ccf89c85",
   "metadata": {},
   "outputs": [],
   "source": [
    "# Load and inspect the config file\n",
    "# Not mandatory for job submission, but helpful when debugging\n",
    "from flamingo.jobs.simple import SimpleJobConfig\n",
    "\n",
    "CONFIG_DIR = Path(\"configs\")\n",
    "CONFIG_FILE = \"simple_config.yaml\"\n",
    "\n",
    "config = SimpleJobConfig.from_yaml_file(CONFIG_DIR / CONFIG_FILE)\n",
    "config"
   ]
  },
  {
   "cell_type": "code",
   "execution_count": null,
   "id": "b81b36be-35ce-4398-a6d4-ac1f719f5c95",
   "metadata": {},
   "outputs": [],
   "source": [
    "# Construct the runtime environment for your job submission\n",
    "# py_modules contains the path to the local flamingo module directory\n",
    "# pip contains an export of the dependencies for the flamingo package (see CONTRIBUTING.md for how to generate)\n",
    "runtime_env = {\n",
    "    \"working_dir\": str(CONFIG_DIR),\n",
    "    \"env_vars\": {\"WANDB_API_KEY\": os.environ[\"WANDB_API_KEY\"]},  # If running a job that uses W&B\n",
    "    \"py_modules\": [str(flamingo_module)],\n",
    "    \"pip\": \"/path/to/flamingo/requirements.txt\",\n",
    "}"
   ]
  },
  {
   "cell_type": "code",
   "execution_count": null,
   "id": "4bd300f9-b863-4413-bd3a-430601656816",
   "metadata": {},
   "outputs": [],
   "source": [
    "# Submit the job to the Ray cluster\n",
    "# Note: flamingo is invoked by 'python -m flamingo' since the CLI is not installed in the environment\n",
    "client.submit_job(\n",
    "    entrypoint=f\"python -m flamingo run simple --config {CONFIG_FILE}\", runtime_env=runtime_env\n",
    ")"
   ]
  }
 ],
 "metadata": {
  "kernelspec": {
   "display_name": "Python 3 (ipykernel)",
   "language": "python",
   "name": "python3"
  },
  "language_info": {
   "codemirror_mode": {
    "name": "ipython",
    "version": 3
   },
   "file_extension": ".py",
   "mimetype": "text/x-python",
   "name": "python",
   "nbconvert_exporter": "python",
   "pygments_lexer": "ipython3",
   "version": "3.10.13"
  }
 },
 "nbformat": 4,
 "nbformat_minor": 5
}
